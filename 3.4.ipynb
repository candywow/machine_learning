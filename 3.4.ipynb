{
 "cells": [
  {
   "cell_type": "code",
   "execution_count": 158,
   "metadata": {},
   "outputs": [],
   "source": [
    "import pandas as pd\n",
    "import numpy as np\n",
    "\n",
    "from sklearn import datasets\n",
    "from sklearn.model_selection import KFold\n",
    "from sklearn.model_selection import LeaveOneOut\n",
    "\n",
    "import seaborn as sns\n",
    "import matplotlib.pyplot as plt\n",
    "%matplotlib inline"
   ]
  },
  {
   "cell_type": "code",
   "execution_count": 4,
   "metadata": {},
   "outputs": [],
   "source": [
    "iris = datasets.load_iris()\n",
    "x = iris.data\n",
    "y = iris.target"
   ]
  },
  {
   "cell_type": "code",
   "execution_count": 6,
   "metadata": {},
   "outputs": [],
   "source": [
    "data = pd.DataFrame(x, columns=['A', 'B', 'C', 'D'])\n",
    "data['target'] = y"
   ]
  },
  {
   "cell_type": "code",
   "execution_count": 9,
   "metadata": {},
   "outputs": [],
   "source": [
    "data = data.drop(['C', 'D'], axis=1)"
   ]
  },
  {
   "cell_type": "code",
   "execution_count": 12,
   "metadata": {},
   "outputs": [],
   "source": [
    "data = data[data['target'].isin([0, 1])]"
   ]
  },
  {
   "cell_type": "code",
   "execution_count": 14,
   "metadata": {
    "collapsed": true
   },
   "outputs": [],
   "source": [
    "scatter1 = data[data['target'] == 1]\n",
    "scatter2 = data[data['target'] == 0]"
   ]
  },
  {
   "cell_type": "code",
   "execution_count": 17,
   "metadata": {},
   "outputs": [
    {
     "data": {
      "image/png": "[encoded data removed]",
      "text/plain": [
       "<matplotlib.figure.Figure at 0x113612cd0>"
      ]
     },
     "metadata": {},
     "output_type": "display_data"
    }
   ],
   "source": [
    "ax = scatter1.plot.scatter(x='A', y ='B', color='red', label='Class1')\n",
    "scatter2.plot.scatter(x='A', y ='B', color='green', label='Class2', ax=ax)\n",
    "plt.show()"
   ]
  },
  {
   "cell_type": "code",
   "execution_count": 27,
   "metadata": {},
   "outputs": [
    {
     "name": "stdout",
     "output_type": "stream",
     "text": [
      "<class 'pandas.core.frame.DataFrame'>\n",
      "Int64Index: 100 entries, 0 to 99\n",
      "Data columns (total 3 columns):\n",
      "A         100 non-null float64\n",
      "B         100 non-null float64\n",
      "target    100 non-null int64\n",
      "dtypes: float64(2), int64(1)\n",
      "memory usage: 3.1 KB\n"
     ]
    }
   ],
   "source": [
    "data.info()"
   ]
  },
  {
   "cell_type": "code",
   "execution_count": 68,
   "metadata": {},
   "outputs": [],
   "source": [
    "m = data.shape[0]"
   ]
  },
  {
   "cell_type": "code",
   "execution_count": 67,
   "metadata": {},
   "outputs": [],
   "source": [
    "X = data[['A', 'B']]\n",
    "X_tmp = []\n",
    "for i in range(data.shape[0]):\n",
    "    X_tmp.append(X.loc[i].tolist())\n",
    "X = np.array(X_tmp)"
   ]
  },
  {
   "cell_type": "code",
   "execution_count": 64,
   "metadata": {},
   "outputs": [],
   "source": [
    "y = np.transpose(np.array([data.target.tolist()]))"
   ]
  },
  {
   "cell_type": "markdown",
   "metadata": {},
   "source": [
    "K-fold: divides all the samples in k groups of samples, called folds, of equal sizes. The prediction function is learned using k-1 folds, and the fold left out is used for tested."
   ]
  },
  {
   "cell_type": "code",
   "execution_count": 157,
   "metadata": {},
   "outputs": [
    {
     "name": "stdout",
     "output_type": "stream",
     "text": [
      "0.0163080499778\n"
     ]
    }
   ],
   "source": [
    "kf = KFold(n_splits=10)\n",
    "error = []\n",
    "for train, test in kf.split(data):\n",
    "    theta = logistic_regression(X[train], y[train])\n",
    "\n",
    "    X_test = X[test][:]\n",
    "    m = X_test.shape[0]\n",
    "    tmp = np.ones((m))\n",
    "    X_test = np.insert(X[test], 0, values=tmp, axis=1)\n",
    "    h = sigmoid(np.dot(X_test, theta))\n",
    "    error.append((sum((h- y[test])**2)/m)[0])\n",
    "\n",
    "error_mean = sum(error)/len(error)\n",
    "print error_mean"
   ]
  },
  {
   "cell_type": "markdown",
   "metadata": {},
   "source": [
    "Leave-one-out is a simple cross-validation."
   ]
  },
  {
   "cell_type": "code",
   "execution_count": 160,
   "metadata": {},
   "outputs": [
    {
     "name": "stdout",
     "output_type": "stream",
     "text": [
      "0.0142020893443\n"
     ]
    }
   ],
   "source": [
    "loo = LeaveOneOut()\n",
    "error = []\n",
    "for train, test in loo.split(data):\n",
    "    theta = logistic_regression(X[train], y[train])\n",
    "\n",
    "    X_test = X[test][:]\n",
    "    m = X_test.shape[0]\n",
    "    tmp = np.ones((m))\n",
    "    X_test = np.insert(X[test], 0, values=tmp, axis=1)\n",
    "    h = sigmoid(np.dot(X_test, theta))\n",
    "    error.append((sum((h- y[test])**2)/m)[0])\n",
    "\n",
    "error_mean = sum(error)/len(error)\n",
    "print error_mean"
   ]
  },
  {
   "cell_type": "code",
   "execution_count": 24,
   "metadata": {},
   "outputs": [],
   "source": [
    "def sigmoid(z):\n",
    "    return 1.0/(1+np.exp(-z))"
   ]
  },
  {
   "cell_type": "code",
   "execution_count": 92,
   "metadata": {
    "collapsed": true
   },
   "outputs": [],
   "source": [
    "def cost(theta, X, y):\n",
    "    h = sigmoid(np.dot(X, theta))\n",
    "    m = X.shape[0]\n",
    "    cost = -(np.dot(np.transpose(y), np.log(h)) + np.dot(np.transpose(1-y), np.log(1-h)))/m\n",
    "    return cost"
   ]
  },
  {
   "cell_type": "code",
   "execution_count": 138,
   "metadata": {},
   "outputs": [],
   "source": [
    "def logistic_regression(X, y):\n",
    "    theta = np.zeros((3, 1))\n",
    "    echo = 5000\n",
    "    alpha = 0.001\n",
    "    \n",
    "    tmp = np.ones((X.shape[0]))\n",
    "    X = np.insert(X, 0, values=tmp, axis=1)\n",
    "    cost_list = []\n",
    "    for i in range(echo):\n",
    "        h = sigmoid(np.dot(X, theta))\n",
    "        theta = theta + alpha*np.dot(np.transpose(X), y-h)\n",
    "        cost_list.append(cost(theta, X, y)[0][0])\n",
    "        \n",
    "    return theta"
   ]
  },
  {
   "cell_type": "code",
   "execution_count": 117,
   "metadata": {},
   "outputs": [
    {
     "data": {
      "text/plain": [
       "[<matplotlib.lines.Line2D at 0x114495650>]"
      ]
     },
     "execution_count": 117,
     "metadata": {},
     "output_type": "execute_result"
    },
    {
     "data": {
      "image/png": "[encoded data removed]",
      "text/plain": [
       "<matplotlib.figure.Figure at 0x114321190>"
      ]
     },
     "metadata": {},
     "output_type": "display_data"
    }
   ],
   "source": [
    "cost_list, theta = logistic_regression(X, y)\n",
    "plt.plot(cost_list)"
   ]
  }
 ],
 "metadata": {
  "kernelspec": {
   "display_name": "Python 2",
   "language": "python",
   "name": "python2"
  },
  "language_info": {
   "codemirror_mode": {
    "name": "ipython",
    "version": 2
   },
   "file_extension": ".py",
   "mimetype": "text/x-python",
   "name": "python",
   "nbconvert_exporter": "python",
   "pygments_lexer": "ipython2",
   "version": "2.7.13"
  }
 },
 "nbformat": 4,
 "nbformat_minor": 2
}
